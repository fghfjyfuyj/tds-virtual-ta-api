{
  "nbformat": 4,
  "nbformat_minor": 0,
  "metadata": {
    "colab": {
      "provenance": [],
      "authorship_tag": "ABX9TyMvY0CWJBI8MZxqnpKpYdni",
      "include_colab_link": true
    },
    "kernelspec": {
      "name": "python3",
      "display_name": "Python 3"
    },
    "language_info": {
      "name": "python"
    }
  },
  "cells": [
    {
      "cell_type": "markdown",
      "metadata": {
        "id": "view-in-github",
        "colab_type": "text"
      },
      "source": [
        "<a href=\"https://colab.research.google.com/github/fghfjyfuyj/tds-virtual-ta-api/blob/main/main.ipynb\" target=\"_parent\"><img src=\"https://colab.research.google.com/assets/colab-badge.svg\" alt=\"Open In Colab\"/></a>"
      ]
    },
    {
      "cell_type": "code",
      "source": [],
      "metadata": {
        "id": "XUyx6Ue-IG94"
      },
      "execution_count": null,
      "outputs": []
    },
    {
      "source": [
        "\n",
        "\n",
        "from fastapi import FastAPI, Request\n",
        "from typing import List, Optional\n",
        "import json\n",
        "\n",
        "from openai import OpenAI\n",
        "import numpy as np\n",
        "\n",
        "app = FastAPI()\n",
        "\n",
        "import os\n",
        "try:\n",
        "    with open(os.path.join(\"C:\", \"Users\", \"Mansi\", \"Desktop\", \"course_content.json\"), \"r\") as f:\n",
        "        course_content = json.load(f)\n",
        "except FileNotFoundError:\n",
        "    print(\"course_content.json not found. Initializing as empty list.\")\n",
        "    course_content = []\n",
        "\n",
        "try:\n",
        "    with open(\"discourse_content.json\", \"r\") as f:\n",
        "        discourse_posts = json.load(f)\n",
        "except FileNotFoundError:\n",
        "    print(\"discourse_posts.json not found. Initializing as empty list.\")\n",
        "    discourse_posts = []\n",
        "\n",
        "\n",
        "\n",
        "def cosine_similarity(v1, v2):\n",
        "    dot_product = np.dot(v1, v2)\n",
        "    norm_v1 = np.linalg.norm(v1)\n",
        "    norm_v2 = np.linalg.norm(v2)\n",
        "    if norm_v1 == 0 or norm_v2 == 0:\n",
        "        return 0\n",
        "    return dot_product / (norm_v1 * norm_v2)\n",
        "\n",
        "async def get_embedding(text, model=\"text-embedding-ada-002\"):\n",
        "    print(f\"Generating dummy embedding for: {text[:50]}...\")\n",
        "    return [0.1] * 1536\n",
        "\n",
        "\n",
        "@app.post(\"/api/\")\n",
        "async def answer_question(request: Request):\n",
        "    payload = await request.json()\n",
        "    question = payload.get(\"question\")\n",
        "    image = payload.get(\"image\")\n",
        "\n",
        "    if not question:\n",
        "        raise HTTPException(status_code=400, detail=\"Question is required\")\n",
        "\n",
        "\n",
        "    full_query = question\n",
        "    best_answer = \"Sample answer based on query.\"\n",
        "    references = []\n",
        "    best_answer = \"This is a placeholder answer. Implement your search logic using embeddings.\"\n",
        "    references.append({\"url\": \"https://example.com/placeholder\", \"text\": \"Placeholder Link\"})\n",
        "\n",
        "\n",
        "    return {\"answer\": best_answer, \"links\": references}"
      ],
      "cell_type": "code",
      "metadata": {
        "id": "XaxI7Dc8BBTj",
        "outputId": "5a0e29ad-49a5-4ead-e604-8dad0de7a9ac",
        "colab": {
          "base_uri": "https://localhost:8080/"
        }
      },
      "execution_count": 19,
      "outputs": [
        {
          "output_type": "stream",
          "name": "stdout",
          "text": [
            "course_content.json not found. Initializing as empty list.\n",
            "discourse_posts.json not found. Initializing as empty list.\n"
          ]
        }
      ]
    }
  ]
}