{
  "nbformat": 4,
  "nbformat_minor": 0,
  "metadata": {
    "colab": {
      "provenance": [],
      "authorship_tag": "ABX9TyOHEXpX/G7URx/0pgi/YpHo",
      "include_colab_link": true
    },
    "kernelspec": {
      "name": "python3",
      "display_name": "Python 3"
    },
    "language_info": {
      "name": "python"
    }
  },
  "cells": [
    {
      "cell_type": "markdown",
      "metadata": {
        "id": "view-in-github",
        "colab_type": "text"
      },
      "source": [
        "<a href=\"https://colab.research.google.com/github/fghfjyfuyj/tds-virtual-ta-api/blob/main/webscraper.ipynb\" target=\"_parent\"><img src=\"https://colab.research.google.com/assets/colab-badge.svg\" alt=\"Open In Colab\"/></a>"
      ]
    },
    {
      "cell_type": "code",
      "execution_count": 11,
      "metadata": {
        "colab": {
          "base_uri": "https://localhost:8080/"
        },
        "id": "8L4B14mLXGCU",
        "outputId": "37fd4cda-98bd-40ea-a762-ff74dcf79020"
      },
      "outputs": [
        {
          "output_type": "stream",
          "name": "stdout",
          "text": [
            "<Response [200]>\n",
            "<!DOCTYPE html>\n",
            "<html lang=\"en\">\n",
            " <head>\n",
            "  <meta content=\"IE=edge,chrome=1\" http-equiv=\"X-UA-Compatible\"/>\n",
            "  <meta content=\"width=device-width,initial-scale=1\" name=\"viewport\"/>\n",
            "  <meta charset=\"utf-8\"/>\n",
            "  <title>\n",
            "   Tools in Data Science\n",
            "  </title>\n",
            "  <link href=\"https://raw.githubusercontent.com/gramener/assets/main/straive-favicon.svg\" rel=\"icon\"/>\n",
            "  <link href=\"https://cdn.jsdelivr.net/npm/docsify-themeable@0/dist/css/theme-simple-dark.css\" media=\"(prefers-color-scheme: dark)\" rel=\"stylesheet\"/>\n",
            "  <link href=\"https://cdn.jsdelivr.net/npm/docsify-themeable@0/dist/css/theme-simple.css\" media=\"(prefers-color-scheme: light)\" rel=\"stylesheet\"/>\n",
            "  <style>\n",
            "   /* Add a YouTube icon on top of all YouTube links with images */\n",
            "    a[href*=\"youtu\"]:has(img[src*=\"ytimg\"]) {\n",
            "      position: relative;\n",
            "      display: inline-block;\n",
            "    }\n",
            "\n",
            "    a[href*=\"youtu\"]:has(img[src*=\"ytimg\"])::after {\n",
            "      content: \"\";\n",
            "      position: absolute;\n",
            "      left: 50%;\n",
            "      top: 50%;\n",
            "      width: 100px;\n",
            "      height: 100px;\n",
            "      background: url('data:image/svg+xml,<svg xmlns=\"http://www.w3.org/2000/svg\" width=\"16\" height=\"16\" fill=\"red\" class=\"bi bi-youtube\" viewBox=\"0 0 16 16\"><path d=\"M8.051 1.999h.089c.822.003 4.987.033 6.11.335a2.01 2.01 0 0 1 1.415 1.42c.101.38.172.883.22 1.402l.01.104.022.26.008.104c.065.914.073 1.77.074 1.957v.075c-.001.194-.01 1.108-.082 2.06l-.008.105-.009.104c-.05.572-.124 1.14-.235 1.558a2.01 2.01 0 0 1-1.415 1.42c-1.16.312-5.569.334-6.18.335h-.142c-.309 0-1.587-.006-2.927-.052l-.17-.006-.087-.004-.171-.007-.171-.007c-1.11-.049-2.167-.128-2.654-.26a2.01 2.01 0 0 1-1.415-1.419c-.111-.417-.185-.986-.235-1.558L.09 9.82l-.008-.104A31 31 0 0 1 0 7.68v-.123c.002-.215.01-.958.064-1.778l.007-.103.003-.052.008-.104.022-.26.01-.104c.048-.519.119-1.023.22-1.402a2.01 2.01 0 0 1 1.415-1.42c.487-.13 1.544-.21 2.654-.26l.17-.007.172-.006.086-.003.171-.007A100 100 0 0 1 7.858 2z\"/><path d=\"M6.4 5.209v4.818l4.157-2.408z\" fill=\"white\"/></svg>') no-repeat center center;\n",
            "      background-size: contain;\n",
            "      transform: translate(-50%, -50%);\n",
            "      pointer-events: none;\n",
            "    }\n",
            "  </style>\n",
            " </head>\n",
            " <body>\n",
            "  <div id=\"app\">\n",
            "  </div>\n",
            "  <script>\n",
            "   window.$docsify = {\n",
            "      name: 'Tools in Data Science',\n",
            "      subMaxLevel: 2,\n",
            "      themeColor: '#dc3545',\n",
            "      loadSidebar: true,\n",
            "      sidebarDisplayLevel: 0,\n",
            "      pagination: {\n",
            "        previousText: 'Previous',\n",
            "        nextText: 'Next',\n",
            "        crossChapter: true,\n",
            "        crossChapterText: true\n",
            "      },\n",
            "    };\n",
            "  </script>\n",
            "  <script src=\"https://cdn.jsdelivr.net/npm/docsify@4\">\n",
            "  </script>\n",
            "  <script src=\"https://cdn.jsdelivr.net/npm/docsify@4/lib/plugins/search.js\">\n",
            "  </script>\n",
            "  <script src=\"https://cdn.jsdelivr.net/npm/docsify@4/lib/plugins/zoom-image.min.js\">\n",
            "  </script>\n",
            "  <script src=\"https://cdn.jsdelivr.net/npm/docsify-pagination@2/dist/docsify-pagination.min.js\">\n",
            "  </script>\n",
            "  <script src=\"https://cdn.jsdelivr.net/npm/docsify-themeable@0.9/dist/js/docsify-themeable.min.js\">\n",
            "  </script>\n",
            "  <script src=\"https://cdn.jsdelivr.net/npm/docsify-copy-code@3/dist/docsify-copy-code.min.js\">\n",
            "  </script>\n",
            "  <script src=\"https://cdn.jsdelivr.net/npm/docsify-sidebar-collapse/dist/docsify-sidebar-collapse.min.js\">\n",
            "  </script>\n",
            "  <script src=\"https://cdn.jsdelivr.net/npm/prismjs@1/components/prism-bash.min.js\">\n",
            "  </script>\n",
            "  <script src=\"https://cdn.jsdelivr.net/npm/prismjs@1/components/prism-python.min.js\">\n",
            "  </script>\n",
            "  <script src=\"https://cdn.jsdelivr.net/npm/prismjs@1/components/prism-sql.min.js\">\n",
            "  </script>\n",
            "  <script src=\"https://cdn.jsdelivr.net/npm/prismjs@1/components/prism-yaml.min.js\">\n",
            "  </script>\n",
            "  <script src=\"https://cdn.jsdelivr.net/npm/prismjs@1/components/prism-json.min.js\">\n",
            "  </script>\n",
            "  <script src=\"https://cdn.jsdelivr.net/npm/prismjs@1/components/prism-markdown.min.js\">\n",
            "  </script>\n",
            " </body>\n",
            "</html>\n",
            "\n"
          ]
        }
      ],
      "source": [
        "import requests\n",
        "from bs4 import BeautifulSoup\n",
        "\n",
        "\n",
        "# Making a GET request\n",
        "r = requests.get('https://tds.s-anand.net/#/2025-01/')\n",
        "\n",
        "# check status code for response received\n",
        "# success code - 200\n",
        "print(r)\n",
        "\n",
        "# Parsing the HTML\n",
        "soup = BeautifulSoup(r.content, 'html.parser')\n",
        "print(soup.prettify())"
      ]
    }
  ]
}